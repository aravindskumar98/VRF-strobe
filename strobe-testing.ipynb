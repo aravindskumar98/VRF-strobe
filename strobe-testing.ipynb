{
 "cells": [
  {
   "cell_type": "code",
   "execution_count": 673,
   "metadata": {},
   "outputs": [
    {
     "name": "stdout",
     "output_type": "stream",
     "text": [
      "The Germain prime is: 32771\n",
      "The Germain prime is: 131321\n"
     ]
    }
   ],
   "source": [
    "import sympy\n",
    "from utils import *\n",
    "import math\n",
    "import random\n",
    "\n",
    "p_dash = get_germain_prime(15)\n",
    "q_dash = get_germain_prime(17)\n"
   ]
  },
  {
   "cell_type": "code",
   "execution_count": 674,
   "metadata": {},
   "outputs": [
    {
     "name": "stdout",
     "output_type": "stream",
     "text": [
      "9968812043\n"
     ]
    }
   ],
   "source": [
    "# generate different parameters\n",
    "p = 2*p_dash + 1\n",
    "q = 2*q_dash + 1\n",
    "phi = 4*p_dash*q_dash\n",
    "N = p*q\n",
    "# total number of nodes\n",
    "n = 10\n",
    "# total number of needed nodes\n",
    "t = 8\n",
    "\n",
    "# other values\n",
    "n_fact = math.factorial(n)\n",
    "s = get_s(n, p_dash, q_dash, phi)\n",
    "a_coeff = [sympy.randprime(1, N) for i in range(t-1)]\n",
    "v = sympy.mod_inverse(n_fact*s, phi//4)\n",
    "\n",
    "seed = random.randint(1, N)\n",
    "print(seed)"
   ]
  },
  {
   "cell_type": "code",
   "execution_count": 675,
   "metadata": {},
   "outputs": [
    {
     "name": "stdout",
     "output_type": "stream",
     "text": [
      "13168189440000\n"
     ]
    }
   ],
   "source": [
    "n_fact_sq = pow(n_fact, 2)\n",
    "print(n_fact_sq)"
   ]
  },
  {
   "cell_type": "code",
   "execution_count": 676,
   "metadata": {},
   "outputs": [],
   "source": [
    "# Generate X_0 <- Publicly known\n",
    "x_0 = pow(seed, 4*n_fact_sq, N)\n"
   ]
  },
  {
   "cell_type": "code",
   "execution_count": 677,
   "metadata": {},
   "outputs": [],
   "source": [
    "def poly_func_for_sk(i, v, a_coeff):\n",
    "    out = v\n",
    "    for j in range(1, len(a_coeff)+1):\n",
    "        out += a_coeff[j-1]*i**j\n",
    "    return out\n",
    "\n",
    "sk = {i: poly_func_for_sk(i, v, a_coeff) for i in range(1, n+1)}"
   ]
  },
  {
   "cell_type": "code",
   "execution_count": 678,
   "metadata": {},
   "outputs": [],
   "source": [
    "# round 1\n",
    "x_T_1 = {}\n",
    "for i in range(1, n+1):\n",
    "    x_T_1[i] = pow(x_0, sk[i], N)"
   ]
  },
  {
   "cell_type": "code",
   "execution_count": 679,
   "metadata": {},
   "outputs": [
    {
     "name": "stdout",
     "output_type": "stream",
     "text": [
      "[1, 3, 7, 6, 4, 2, 5, 8]\n"
     ]
    }
   ],
   "source": [
    "# create a set of t random nodes in range 1 to n\n",
    "selected_indices = random.sample(range(1, n+1), t)\n",
    "print(selected_indices)"
   ]
  },
  {
   "cell_type": "code",
   "execution_count": 680,
   "metadata": {},
   "outputs": [
    {
     "name": "stdout",
     "output_type": "stream",
     "text": [
      "{1: 29030400, 2: -101606400, 3: 203212800, 4: -254016000, 5: 203212800, 6: -101606400, 7: 29030400, 8: -3628800, 9: 3628800, 10: 403200}\n"
     ]
    }
   ],
   "source": [
    "def lagrange_basis_polynomial(i, x, selected_indices, n_fact = 1):\n",
    "    out = n_fact\n",
    "    for j in selected_indices:\n",
    "        if j != i:\n",
    "            out *= (x - j)\n",
    "            out //=(i - j)\n",
    "    return out\n",
    "\n",
    "n_fact_times_L_0 = {i: lagrange_basis_polynomial(i, 0, selected_indices, n_fact) for i in range(1, n+1)}\n",
    "print(n_fact_times_L_0)\n",
    "    "
   ]
  },
  {
   "cell_type": "code",
   "execution_count": 681,
   "metadata": {},
   "outputs": [
    {
     "name": "stdout",
     "output_type": "stream",
     "text": [
      "9178148598\n"
     ]
    }
   ],
   "source": [
    "# calculate x_1 from x_T_1 )\n",
    "x_1 = 1\n",
    "for i in selected_indices:\n",
    "    x_1 *= pow(x_T_1[i], n_fact_times_L_0[i], N)\n",
    "x_1 = pow(x_1, 1, N)\n",
    "print(x_1)"
   ]
  },
  {
   "cell_type": "code",
   "execution_count": 682,
   "metadata": {},
   "outputs": [
    {
     "name": "stdout",
     "output_type": "stream",
     "text": [
      "4148679370 4148679370\n"
     ]
    }
   ],
   "source": [
    "print(x_0, pow(x_1, s, N))\n",
    "assert x_0 == pow(x_1, s, N)"
   ]
  },
  {
   "cell_type": "code",
   "execution_count": 683,
   "metadata": {},
   "outputs": [
    {
     "data": {
      "text/plain": [
       "9968812043"
      ]
     },
     "execution_count": 683,
     "metadata": {},
     "output_type": "execute_result"
    }
   ],
   "source": [
    "seed"
   ]
  },
  {
   "cell_type": "code",
   "execution_count": 684,
   "metadata": {},
   "outputs": [
    {
     "data": {
      "text/plain": [
       "4148679370"
      ]
     },
     "execution_count": 684,
     "metadata": {},
     "output_type": "execute_result"
    }
   ],
   "source": [
    "x_0"
   ]
  },
  {
   "cell_type": "code",
   "execution_count": 685,
   "metadata": {},
   "outputs": [],
   "source": [
    "seed = 2\n",
    "selected_indices = [5, 6, 10, 4, 2, 7, 1, 8]"
   ]
  },
  {
   "cell_type": "code",
   "execution_count": null,
   "metadata": {},
   "outputs": [],
   "source": []
  }
 ],
 "metadata": {
  "kernelspec": {
   "display_name": "base",
   "language": "python",
   "name": "python3"
  },
  "language_info": {
   "codemirror_mode": {
    "name": "ipython",
    "version": 3
   },
   "file_extension": ".py",
   "mimetype": "text/x-python",
   "name": "python",
   "nbconvert_exporter": "python",
   "pygments_lexer": "ipython3",
   "version": "3.9.12"
  },
  "orig_nbformat": 4
 },
 "nbformat": 4,
 "nbformat_minor": 2
}
