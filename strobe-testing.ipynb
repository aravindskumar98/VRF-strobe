{
 "cells": [
  {
   "cell_type": "code",
   "execution_count": 23,
   "metadata": {},
   "outputs": [
    {
     "name": "stdout",
     "output_type": "stream",
     "text": [
      "The Germain prime is: 32771\n",
      "The Germain prime is: 131321\n"
     ]
    }
   ],
   "source": [
    "import sympy\n",
    "from utils import *\n",
    "import math\n",
    "import random\n",
    "\n",
    "p_dash = get_germain_prime(15)\n",
    "q_dash = get_germain_prime(17)\n"
   ]
  },
  {
   "cell_type": "code",
   "execution_count": 24,
   "metadata": {},
   "outputs": [],
   "source": [
    "# generate different parameters\n",
    "p = 2*p_dash + 1\n",
    "q = 2*q_dash + 1\n",
    "phi = 4*p_dash*q_dash\n",
    "N = p*q\n",
    "# total number of nodes\n",
    "n = 10\n",
    "# total number of needed nodes\n",
    "t = 8\n",
    "\n",
    "# other values\n",
    "n_fact = math.factorial(n)\n",
    "s = get_s(n, p_dash, q_dash, phi)\n",
    "a_coeff = [sympy.randprime(1, N) for i in range(t-1)]\n",
    "v = sympy.mod_inverse(n_fact*s, phi//4)\n",
    "\n",
    "seed = random.randint(1, 10)\n",
    "seed = 8 # hardcoded for testing"
   ]
  },
  {
   "cell_type": "code",
   "execution_count": 25,
   "metadata": {},
   "outputs": [
    {
     "name": "stdout",
     "output_type": "stream",
     "text": [
      "52672757760000\n"
     ]
    }
   ],
   "source": [
    "n_fact_sq = 4*pow(n_fact, 2)\n",
    "print(n_fact_sq)"
   ]
  },
  {
   "cell_type": "code",
   "execution_count": 26,
   "metadata": {},
   "outputs": [],
   "source": [
    "# Generate X_0 <- Publicly known\n",
    "x_0 = pow(seed, n_fact_sq, N)\n"
   ]
  },
  {
   "cell_type": "code",
   "execution_count": 28,
   "metadata": {},
   "outputs": [],
   "source": [
    "def poly_func_for_sk(i, v, a_coeff):\n",
    "    out = v\n",
    "    for j in range(1, len(a_coeff)):\n",
    "        out += a_coeff[j-1]*i**j\n",
    "    return out\n",
    "\n",
    "sk = {i: poly_func_for_sk(i, v, a_coeff) for i in range(1, n+1)}"
   ]
  },
  {
   "cell_type": "code",
   "execution_count": 29,
   "metadata": {},
   "outputs": [],
   "source": [
    "# round 1\n",
    "x_T_1 = {}\n",
    "for i in range(1, n+1):\n",
    "    x_T_1[i] = pow(seed, sk[i], N)"
   ]
  },
  {
   "cell_type": "code",
   "execution_count": 30,
   "metadata": {},
   "outputs": [
    {
     "name": "stdout",
     "output_type": "stream",
     "text": [
      "[4, 9, 10, 7, 6, 8, 5, 3]\n"
     ]
    }
   ],
   "source": [
    "# create a set of t random nodes in range 1 to n\n",
    "selected_indices = random.sample(range(1, n+1), t)\n",
    "print(selected_indices)"
   ]
  },
  {
   "cell_type": "code",
   "execution_count": 31,
   "metadata": {},
   "outputs": [
    {
     "name": "stdout",
     "output_type": "stream",
     "text": [
      "{1: 18144000, 2: 163295999, 3: 435456000, 4: -2286144000, 5: 5486745600, 6: -7620480000, 7: 6531840000, 8: -3429216000, 9: 1016064000, 10: -130636800}\n"
     ]
    }
   ],
   "source": [
    "n_fact_times_L_0 = {i: lagrange_basis_polynomial(i, 0, selected_indices, n_fact) for i in range(1, n+1)}\n",
    "print(n_fact_times_L_0)\n",
    "    "
   ]
  },
  {
   "cell_type": "code",
   "execution_count": 32,
   "metadata": {},
   "outputs": [
    {
     "name": "stdout",
     "output_type": "stream",
     "text": [
      "11450378903\n"
     ]
    }
   ],
   "source": [
    "x_1 = 1\n",
    "for i in selected_indices:\n",
    "    x_1 *= pow(x_T_1[i], n_fact_times_L_0[i], N)\n",
    "x_1 = pow(x_1, 1, N)\n",
    "print(x_1)"
   ]
  },
  {
   "cell_type": "code",
   "execution_count": 33,
   "metadata": {},
   "outputs": [
    {
     "data": {
      "text/plain": [
       "1461846196"
      ]
     },
     "execution_count": 33,
     "metadata": {},
     "output_type": "execute_result"
    }
   ],
   "source": [
    "x_0"
   ]
  },
  {
   "cell_type": "code",
   "execution_count": null,
   "metadata": {},
   "outputs": [],
   "source": []
  }
 ],
 "metadata": {
  "kernelspec": {
   "display_name": "base",
   "language": "python",
   "name": "python3"
  },
  "language_info": {
   "codemirror_mode": {
    "name": "ipython",
    "version": 3
   },
   "file_extension": ".py",
   "mimetype": "text/x-python",
   "name": "python",
   "nbconvert_exporter": "python",
   "pygments_lexer": "ipython3",
   "version": "3.9.12"
  },
  "orig_nbformat": 4
 },
 "nbformat": 4,
 "nbformat_minor": 2
}
