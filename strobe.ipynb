{
 "cells": [
  {
   "cell_type": "code",
   "execution_count": 4,
   "metadata": {},
   "outputs": [],
   "source": [
    "import sympy\n",
    "from utils import *\n",
    "import math\n",
    "import random\n",
    "\n",
    "def setup(n,t):\n",
    "    p_dash = get_germain_prime(13) # TODO: change hardcoded value\n",
    "    q_dash = get_germain_prime(18)\n",
    "\n",
    "    p = 2*p_dash + 1\n",
    "    q = 2*q_dash + 1\n",
    "    N = p*q\n",
    "    phi = 4*p_dash*q_dash\n",
    "\n",
    "    n_fact = math.factorial(n)\n",
    "\n",
    "    # randomly sample a prime s from the range [n+1, min(p_dash, q_dash)-1]\n",
    "    s = sympy.randprime(n+1, min(p_dash, q_dash)-1)\n",
    "\n",
    "    try:\n",
    "        assert(s > n)\n",
    "        assert(s < min(p_dash, q_dash))\n",
    "        assert(phi % s != 0)\n",
    "    except AssertionError:\n",
    "        print(\"s is not valid\")\n",
    "        return None\n",
    "    \n",
    "    v = sympy.mod_inverse(n_fact*s, phi//4)\n",
    "    a_coeff = [sympy.randprime(1, N) for _ in range(t-1)] # this has length t-1\n",
    "\n",
    "    # generate_sk_from_polynomial\n",
    "    sk = {i: v + sum([a_coeff[j-1]*i**j for j in range(1, len(a_coeff)+1)]) for i in range(1, n+1)}\n",
    "    return N, phi, s, sk\n",
    "\n",
    "def gen(n_fact, N):\n",
    "    seed = random.randint(1, N)\n",
    "    n_fact_sq = n_fact**2\n",
    "    x_0 = pow(seed, n_fact_sq, N)\n",
    "    return x_0\n",
    "\n",
    "def eval(x_curr, sk_i, N):\n",
    "    x_next_i = pow(x_curr, sk_i, N)\n",
    "    return x_next_i\n",
    "\n",
    "def combine(x_next_array, selected_indices, N, n, n_fact):\n",
    "    n_fact_times_L_0 = {i: lagrange_basis_polynomial(i, 0, selected_indices, n_fact) for i in range(1, n+1)}\n",
    "    x_next = 1\n",
    "    for i in selected_indices:\n",
    "        x_next *= pow(x_next_array[i], n_fact_times_L_0[i], N)\n",
    "    x_next %= N\n",
    "    return x_next\n"
   ]
  },
  {
   "cell_type": "code",
   "execution_count": 5,
   "metadata": {},
   "outputs": [
    {
     "name": "stdout",
     "output_type": "stream",
     "text": [
      "The Germain prime is: 8243\n",
      "The Germain prime is: 262193\n"
     ]
    }
   ],
   "source": [
    "######## Test run ########\n",
    "n = 10\n",
    "t = 8\n",
    "N, phi, s, sk = setup(n,t)\n",
    "n_fact = math.factorial(n)\n",
    "x_0 = gen(n_fact, N)\n",
    "\n",
    "x_1_array = {i: eval(x_0, sk[i], N) for i in range(1, n+1)}\n",
    "\n",
    "# create a set of t random nodes in range 1 to n\n",
    "selected_indices = random.sample(range(1, n+1), t) # TODO: received from different nodes\n",
    "\n",
    "x_1 = combine(x_1_array, selected_indices, N, n, n_fact)\n",
    "\n",
    "assert x_0 == pow(x_1, s, N)"
   ]
  },
  {
   "cell_type": "code",
   "execution_count": 6,
   "metadata": {},
   "outputs": [
    {
     "name": "stdout",
     "output_type": "stream",
     "text": [
      "Passed iteration: 1\n",
      "Passed iteration: 2\n",
      "Passed iteration: 3\n",
      "Passed iteration: 4\n",
      "Passed iteration: 5\n",
      "Passed iteration: 6\n",
      "Passed iteration: 7\n",
      "Passed iteration: 8\n",
      "Passed iteration: 9\n"
     ]
    }
   ],
   "source": [
    "x_curr = x_1\n",
    "for i in range(1, 10):\n",
    "    x_next_array = {i: eval(x_curr, sk[i], N) for i in range(1, n+1)}\n",
    "    selected_indices = random.sample(range(1, n+1), t) \n",
    "    x_next = combine(x_next_array, selected_indices, N, n, n_fact)\n",
    "    assert x_curr == pow(x_next, s, N)\n",
    "    print(f\"Passed iteration: {i}\")\n",
    "    x_curr = x_next"
   ]
  },
  {
   "cell_type": "code",
   "execution_count": null,
   "metadata": {},
   "outputs": [],
   "source": []
  },
  {
   "cell_type": "code",
   "execution_count": null,
   "metadata": {},
   "outputs": [],
   "source": []
  }
 ],
 "metadata": {
  "kernelspec": {
   "display_name": "base",
   "language": "python",
   "name": "python3"
  },
  "language_info": {
   "codemirror_mode": {
    "name": "ipython",
    "version": 3
   },
   "file_extension": ".py",
   "mimetype": "text/x-python",
   "name": "python",
   "nbconvert_exporter": "python",
   "pygments_lexer": "ipython3",
   "version": "3.9.12"
  },
  "orig_nbformat": 4
 },
 "nbformat": 4,
 "nbformat_minor": 2
}
